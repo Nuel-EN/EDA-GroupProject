{
 "cells": [
  {
   "cell_type": "markdown",
   "metadata": {},
   "source": [
    "Task: \n",
    "1. Help a muesli distribution company understand their delivery process.\n",
    "    - Create KPI's to track the health of the company and better serve customers\n"
   ]
  },
  {
   "cell_type": "markdown",
   "metadata": {},
   "source": [
    "Workflow:\n",
    "1. Order received (Day 1)\n",
    "2. Order processed in warehouse and made ready to ship (~ 2 days)\n",
    "3. Order leaves warehouse in truck following day\n",
    "4. Order delivered to customer (handled by logistics company)"
   ]
  },
  {
   "cell_type": "markdown",
   "metadata": {},
   "source": [
    "## **Checklist**\n",
    "\n",
    "1. Understanding\n",
    "2. Hypothesis\n",
    "3. Explore\n",
    "4. Clean\n",
    "5. Relationships\n",
    "6. Back to hypothesis\n",
    "7. Fine tune\n",
    "8. Explain\n"
   ]
  },
  {
   "cell_type": "code",
   "execution_count": null,
   "metadata": {},
   "outputs": [],
   "source": [
    "import pandas as pd\n",
    "import matplotlib.pyplot as plt\n",
    "import seaborn as sn"
   ]
  },
  {
   "cell_type": "code",
   "execution_count": null,
   "metadata": {},
   "outputs": [],
   "source": [
    "plt.style.available"
   ]
  },
  {
   "cell_type": "code",
   "execution_count": null,
   "metadata": {},
   "outputs": [],
   "source": [
    "pd.options.display.float_format = \"{:,.2f}\".format\n",
    "plt.style.use('seaborn-dark')\n",
    "muesli_df = pd.read_csv('../EDA-GroupProject/data/Group4_Muesli Project raw data - Orders.csv')\n",
    "muesli_df.head()"
   ]
  },
  {
   "cell_type": "code",
   "execution_count": null,
   "metadata": {},
   "outputs": [],
   "source": [
    "#lets combine DataFrames \n",
    "#Load the remaining Dataframes\n",
    "cam_df = pd.read_csv('data/Campaign Data.csv')\n",
    "pro_df = pd.read_csv('data/Order Process Data.csv')\n",
    "int_df = pd.read_csv('data/Intern Data Study.csv')"
   ]
  },
  {
   "cell_type": "code",
   "execution_count": null,
   "metadata": {},
   "outputs": [],
   "source": [
    "display(cam_df.head())\n",
    "display(pro_df.head())\n",
    "display(int_df.head())"
   ]
  },
  {
   "cell_type": "code",
   "execution_count": null,
   "metadata": {},
   "outputs": [],
   "source": [
    "# remove capitalization and white-spaces\n",
    "muesli_df.rename(columns=lambda x : x.lower(), inplace=True)\n",
    "muesli_df.rename(columns=lambda x : x.replace(' ', '_'), inplace=True)\n",
    "cam_df.rename(columns=lambda x : x.lower(), inplace=True)\n",
    "cam_df.rename(columns=lambda x : x.replace(' ', '_'), inplace=True)\n",
    "pro_df.rename(columns=lambda x : x.lower(), inplace=True)\n",
    "pro_df.rename(columns=lambda x : x.replace(' ', '_'), inplace=True)\n",
    "int_df.rename(columns=lambda x : x.lower(), inplace=True)\n",
    "int_df.rename(columns=lambda x : x.replace(' ', '_'), inplace=True)"
   ]
  },
  {
   "cell_type": "code",
   "execution_count": null,
   "metadata": {},
   "outputs": [],
   "source": [
    "# display results of lowercase and white-space changes\n",
    "display(muesli_df.columns)\n",
    "display(cam_df.columns)\n",
    "display(pro_df.columns)\n",
    "display(int_df.columns)"
   ]
  },
  {
   "cell_type": "code",
   "execution_count": null,
   "metadata": {},
   "outputs": [],
   "source": [
    "# check for duplicates\n",
    "int_df[\"order_id\"].duplicated().value_counts()"
   ]
  },
  {
   "cell_type": "code",
   "execution_count": null,
   "metadata": {},
   "outputs": [],
   "source": [
    "# Drop/clean some columns\n",
    "muesli_df.drop(['postal_code', 'origin_channel', 'sales', 'quantity', 'discount', 'profit'], axis=1, inplace=True)"
   ]
  },
  {
   "cell_type": "code",
   "execution_count": null,
   "metadata": {},
   "outputs": [],
   "source": [
    "# Drop/clean duplicate columns\n",
    "cam_df.drop('customer_name', axis=1, inplace=True)"
   ]
  },
  {
   "cell_type": "code",
   "execution_count": null,
   "metadata": {},
   "outputs": [],
   "source": [
    "# Drop/clean duplicate columns\n",
    "pro_df.drop(['row_id', 'order_date', 'ship_mode'], axis=1, inplace=True)"
   ]
  },
  {
   "cell_type": "code",
   "execution_count": null,
   "metadata": {},
   "outputs": [],
   "source": [
    "# check results\n",
    "display(muesli_df.columns)\n",
    "display(cam_df.columns)\n",
    "display(pro_df.columns)\n",
    "display(int_df.columns)"
   ]
  },
  {
   "cell_type": "code",
   "execution_count": null,
   "metadata": {},
   "outputs": [],
   "source": [
    "# check results\n",
    "display(muesli_df.shape)\n",
    "display(cam_df.shape)\n",
    "display(pro_df.shape)\n",
    "display(int_df.shape)"
   ]
  },
  {
   "cell_type": "code",
   "execution_count": null,
   "metadata": {},
   "outputs": [],
   "source": [
    "# remove the duplicates in the sheets\n",
    "cam_df = cam_df.drop_duplicates()\n"
   ]
  },
  {
   "cell_type": "code",
   "execution_count": null,
   "metadata": {},
   "outputs": [],
   "source": [
    "# remove the duplicates in the sheets\n",
    "pro_df = pro_df.drop_duplicates()\n",
    "pro_df.info()\n"
   ]
  },
  {
   "cell_type": "code",
   "execution_count": null,
   "metadata": {},
   "outputs": [],
   "source": [
    "# remove the duplicates in the sheets\n",
    "int_df = int_df.drop_duplicates()"
   ]
  },
  {
   "cell_type": "code",
   "execution_count": null,
   "metadata": {},
   "outputs": [],
   "source": [
    "# check results\n",
    "display(muesli_df.shape)\n",
    "display(cam_df.shape)\n",
    "display(pro_df.shape)\n",
    "display(int_df.shape)"
   ]
  },
  {
   "cell_type": "code",
   "execution_count": null,
   "metadata": {},
   "outputs": [],
   "source": [
    "muesli_df['order_id'].nunique()\n"
   ]
  },
  {
   "cell_type": "code",
   "execution_count": null,
   "metadata": {},
   "outputs": [],
   "source": [
    "\n",
    "display(muesli_df.info())\n",
    "display(cam_df.info())\n",
    "display(pro_df.info())\n",
    "display(int_df.info())"
   ]
  },
  {
   "cell_type": "code",
   "execution_count": null,
   "metadata": {},
   "outputs": [],
   "source": [
    "# merge from left to right\n",
    "muesli_process_df = muesli_df.merge(pro_df, how='left', on='order_id')\n",
    "muesli_process_df.head()"
   ]
  },
  {
   "cell_type": "code",
   "execution_count": null,
   "metadata": {},
   "outputs": [],
   "source": [
    "muesli_cp_df = muesli_process_df.merge(cam_df, how='left', on='order_id')\n",
    "muesli_cp_df.head()"
   ]
  },
  {
   "cell_type": "code",
   "execution_count": null,
   "metadata": {},
   "outputs": [],
   "source": [
    "muesli2_df = muesli_cp_df.merge(int_df, how='left', on='order_id')\n",
    "muesli2_df.head()"
   ]
  },
  {
   "cell_type": "code",
   "execution_count": null,
   "metadata": {},
   "outputs": [],
   "source": [
    "muesli2_df.info()"
   ]
  },
  {
   "cell_type": "code",
   "execution_count": null,
   "metadata": {},
   "outputs": [],
   "source": [
    "# remove the duplicates in the sheets\n",
    "muesli_process_df = muesli_process_df.drop_duplicates()"
   ]
  },
  {
   "cell_type": "code",
   "execution_count": null,
   "metadata": {},
   "outputs": [],
   "source": [
    "# # change all date formats to year-month-day\n",
    "muesli2_df['order_date'] = pd.to_datetime(muesli2_df['order_date'], format='%d/%m/%Y')\n"
   ]
  },
  {
   "cell_type": "code",
   "execution_count": null,
   "metadata": {},
   "outputs": [],
   "source": [
    "# change all date formats to year-month-day\n",
    "muesli2_df['arrival_scan_date'] = pd.to_datetime(muesli2_df['arrival_scan_date'], format='%d/%m/%Y')\n"
   ]
  },
  {
   "cell_type": "code",
   "execution_count": null,
   "metadata": {},
   "outputs": [],
   "source": [
    "# change all date formats to year-month-day\n",
    "muesli2_df['on_truck_scan_date'] = pd.to_datetime(muesli2_df['on_truck_scan_date'], format='%d/%m/%Y')\n"
   ]
  },
  {
   "cell_type": "code",
   "execution_count": null,
   "metadata": {},
   "outputs": [],
   "source": [
    "# change all date formats to year-month-day\n",
    "muesli2_df['ready_to_ship_date'] = pd.to_datetime(muesli2_df['ready_to_ship_date'], format='%d/%m/%Y')\n"
   ]
  },
  {
   "cell_type": "code",
   "execution_count": null,
   "metadata": {},
   "outputs": [],
   "source": [
    "# change all date formats to year-month-day\n",
    "muesli2_df['pickup_date'] = pd.to_datetime(muesli2_df['pickup_date'], format='%d/%m/%Y')\n",
    "muesli2_df['on_truck_scan_date'] = pd.to_datetime(muesli2_df['on_truck_scan_date'], format='%d/%m/%Y')"
   ]
  },
  {
   "cell_type": "code",
   "execution_count": null,
   "metadata": {},
   "outputs": [],
   "source": [
    "# # change all date formats to year-month-day\n",
    "# muesli_df['order_date'] = pd.to_datetime(muesli_df['order_date'], format='%d/%m/%Y')\n",
    "\n",
    "# # change all date formats to year-month-day\n",
    "# cam_df['arrival_scan_date'] = pd.to_datetime(cam_df['arrival_scan_date'], format='%d/%m/%Y')\n",
    "\n",
    "# # change all date formats to year-month-day\n",
    "# pro_df['order_date'] = pd.to_datetime(pro_df['order_date'], format='%d/%m/%Y')\n",
    "\n",
    "# # change all date formats to year-month-day\n",
    "# pro_df['on_truck_scan_date'] = pd.to_datetime(pro_df['on_truck_scan_date'], format='%d/%m/%Y')\n",
    "\n",
    "# # change all date formats to year-month-day\n",
    "# int_df['ready_to_ship_date'] = pd.to_datetime(int_df['ready_to_ship_date'], format='%d/%m/%Y')\n",
    "\n",
    "# # change all date formats to year-month-day\n",
    "# int_df['pickup_date'] = pd.to_datetime(int_df['pickup_date'], format='%d/%m/%Y')\n",
    "# pro_df['on_truck_scan_date'] = pd.to_datetime(pro_df['on_truck_scan_date'], format='%d/%m/%Y')"
   ]
  },
  {
   "cell_type": "code",
   "execution_count": null,
   "metadata": {},
   "outputs": [],
   "source": [
    "muesli2_df.head()"
   ]
  },
  {
   "cell_type": "code",
   "execution_count": null,
   "metadata": {},
   "outputs": [],
   "source": [
    "# # check result of date format changes\n",
    "# display(muesli_df['order_date'].head())\n",
    "# display(cam_df['arrival_scan_date'].head())\n",
    "# display(pro_df[['order_date', 'on_truck_scan_date']].head())\n",
    "# display(int_df[['ready_to_ship_date', 'pickup_date']].head())"
   ]
  },
  {
   "cell_type": "code",
   "execution_count": null,
   "metadata": {},
   "outputs": [],
   "source": [
    "# # create new columns arrival scan of day/month/year in campaign data \n",
    "# cam_df['arrival_scan_year'] = cam_df['arrival_scan_date'].dt.year\n",
    "# cam_df['arrival_scan_month'] = cam_df['arrival_scan_date'].dt.month\n",
    "# cam_df['arrival_scan_day'] = cam_df['arrival_scan_date'].dt.day_of_week\n"
   ]
  },
  {
   "cell_type": "code",
   "execution_count": null,
   "metadata": {},
   "outputs": [],
   "source": [
    "# # create new columns order date of day/month/year in campaign data \n",
    "# pro_df['order_year'] = pro_df['order_date'].dt.year\n",
    "# pro_df['order_month'] = pro_df['order_date'].dt.month\n",
    "# pro_df['order_day'] = pro_df['order_date'].dt.day_of_week\n",
    "# # create new columns on truck scan of day/month/year in campaign data \n",
    "# pro_df['on_truck_scan_year'] = pro_df['on_truck_scan_date'].dt.year\n",
    "# pro_df['on_truck_scan_month'] = pro_df['on_truck_scan_date'].dt.month\n",
    "# pro_df['on_truck_scan_day'] = pro_df['on_truck_scan_date'].dt.day_of_week\n"
   ]
  },
  {
   "cell_type": "code",
   "execution_count": null,
   "metadata": {},
   "outputs": [],
   "source": [
    "# # create new columns on truck scan of day/month/year in campaign data \n",
    "# int_df['ready_to_ship_year'] = int_df['ready_to_ship_date'].dt.year\n",
    "# int_df['ready_to_ship_month'] = int_df['ready_to_ship_date'].dt.month\n",
    "# int_df['ready_to_ship_day'] = int_df['ready_to_ship_date'].dt.day_of_week\n",
    "# # create new columns on truck scan of day/month/year in campaign data \n",
    "# int_df['pickup_year'] = int_df['pickup_date'].dt.year\n",
    "# int_df['pickup_month'] = int_df['pickup_date'].dt.month\n",
    "# int_df['pickup_day'] = int_df['pickup_date'].dt.day_of_week"
   ]
  },
  {
   "cell_type": "code",
   "execution_count": null,
   "metadata": {},
   "outputs": [],
   "source": [
    "# display(cam_df.head())\n",
    "# display(pro_df.head())\n",
    "# display(int_df.head())"
   ]
  },
  {
   "cell_type": "code",
   "execution_count": null,
   "metadata": {},
   "outputs": [],
   "source": [
    "# # find out how many unique customers we have\n",
    "# display(cam_df['order_id'].nunique())\n",
    "# display(cam_df['customer_name'].nunique())\n",
    "# display(muesli_df['customer_id'].nunique())\n",
    "# display(muesli_df['customer_name'].nunique())\n",
    "# # We now know we have 333 unique customers from the campaign data, and 793 unique customers in the muesli data\n"
   ]
  },
  {
   "cell_type": "code",
   "execution_count": null,
   "metadata": {},
   "outputs": [],
   "source": [
    "# # Create new column called 'ship_to_pickup_days' to check the time between ready date and the ship pick-up date in the intern study data\n",
    "# muesli2_df['ship_to_pickup_days'] = (muesli2_df['pickup_date']-muesli2_df['ready_to_ship_date']).dt.days\n",
    "# # Check results\n",
    "# muesli2_df.head()"
   ]
  },
  {
   "cell_type": "code",
   "execution_count": null,
   "metadata": {},
   "outputs": [],
   "source": [
    "# muesli2_df['ship_to_pickup_days'].mean()"
   ]
  },
  {
   "cell_type": "code",
   "execution_count": null,
   "metadata": {},
   "outputs": [],
   "source": [
    "# Create new column called 'ship_to_pickup_days' to check the time between ready date and the ship pick-up date in the intern study data\n",
    "muesli2_df['order_to_on_truck_days'] = (muesli2_df['on_truck_scan_date']-muesli2_df['order_date']).dt.days\n",
    "# Check results\n",
    "muesli2_df.head()"
   ]
  },
  {
   "cell_type": "code",
   "execution_count": null,
   "metadata": {},
   "outputs": [],
   "source": [
    "muesli2_df.info()"
   ]
  },
  {
   "cell_type": "code",
   "execution_count": null,
   "metadata": {},
   "outputs": [],
   "source": [
    "display(muesli2_df['order_to_on_truck_days'].mean())\n",
    "display(muesli2_df['order_to_on_truck_days'].min())\n",
    "display(muesli2_df['order_to_on_truck_days'].max())\n",
    "muesli2_df['order_to_on_truck_days'].sort_values().value_counts().max()"
   ]
  },
  {
   "cell_type": "code",
   "execution_count": null,
   "metadata": {},
   "outputs": [],
   "source": [
    "plt.figure(figsize=(6, 4))\n",
    "\n",
    "# create a histogram for 'order_to_on_truck_days'\n",
    "plt.hist(muesli2_df['order_to_on_truck_days'], bins = 13, edgecolor = 'k');"
   ]
  },
  {
   "cell_type": "code",
   "execution_count": null,
   "metadata": {},
   "outputs": [],
   "source": [
    "muesli2_df.groupby('ship_mode').count().order_to_on_truck_days.reset_index()"
   ]
  },
  {
   "cell_type": "code",
   "execution_count": null,
   "metadata": {},
   "outputs": [],
   "source": [
    "# Set figure size\n",
    "plt.figure(figsize=(6, 4))\n",
    "\n",
    "# Create histogram by specifying x-value\n",
    "plt.hist(x = muesli2_df['order_to_on_truck_days'])\n",
    "plt.hist(x = muesli2_df['ship_mode'])\n",
    "\n",
    "# # Label your axes\n",
    "# plt.xlabel(\"Quality\")\n",
    "# plt.ylabel(\"Frequency\")\n",
    "\n",
    "# Set title\n",
    "plt.title(\"Delivery Days Based on Shipping Method\")\n",
    "\n",
    "# Show graphic\n",
    "plt.show()"
   ]
  },
  {
   "cell_type": "markdown",
   "metadata": {},
   "source": [
    "<br/><br/>\n",
    "<br/><br/>\n",
    "<br/><br/>\n",
    "<br/><br/>\n",
    "<br/><br/>\n",
    "<br/><br/>\n",
    "<br/><br/>\n",
    "<br/><br/>\n",
    "# Where I start to really diverge in method and ideas\n",
    "<br/><br/>\n",
    "<br/><br/>\n",
    "<br/><br/>\n",
    "<br/><br/>\n",
    "<br/><br/>\n",
    "<br/><br/>\n",
    "<br/><br/>\n",
    "<br/><br/>"
   ]
  },
  {
   "cell_type": "markdown",
   "metadata": {},
   "source": [
    "<br/><br/>\n",
    "<br/><br/>\n",
    "<br/><br/>\n",
    "<br/><br/>\n",
    "<br/><br/>\n",
    "<br/><br/>\n",
    "<br/><br/>\n",
    "<br/><br/>\n",
    "# Nuels merge\n",
    "<br/><br/>\n",
    "<br/><br/>\n",
    "<br/><br/>\n",
    "<br/><br/>\n",
    "<br/><br/>\n",
    "<br/><br/>\n",
    "<br/><br/>\n",
    "<br/><br/>"
   ]
  },
  {
   "cell_type": "code",
   "execution_count": null,
   "metadata": {},
   "outputs": [],
   "source": [
    "# merging 'Intern Data Study.csv' and 'Process Data.csv' into one \n",
    "Pro_Int_df = pd.merge(Int_df, pro_df, on =['order_id'])\n",
    "# merging 'Pro_Int_df' and 'Campaign Data.csv' into one \n",
    "Cam_pro_int_df = pd.merge(Pro_Int_df, Cam_df, on = ['order_id'])\n",
    "# Check results\n",
    "Cam_pro_int_df.head()\n"
   ]
  },
  {
   "cell_type": "code",
   "execution_count": null,
   "metadata": {},
   "outputs": [],
   "source": [
    "# check descriptive stats and info of new merged csv\n",
    "# display(Cam_pro_int_df.describe())\n",
    "display(Cam_pro_int_df.shape)\n",
    "display(Cam_pro_int_df.info())"
   ]
  },
  {
   "cell_type": "code",
   "execution_count": null,
   "metadata": {},
   "outputs": [],
   "source": [
    "# merging 'Cam_pro_int_df' and 'muesli_df' into one \n",
    "Muesli_df2 =pd.merge(muesli_df, Cam_pro_int_df, how = 'outer', on = ['order_id'])"
   ]
  },
  {
   "cell_type": "code",
   "execution_count": null,
   "metadata": {},
   "outputs": [],
   "source": [
    "Muesli_df2.head()"
   ]
  },
  {
   "cell_type": "code",
   "execution_count": null,
   "metadata": {},
   "outputs": [],
   "source": [
    "Muesli_df2.columns"
   ]
  },
  {
   "cell_type": "code",
   "execution_count": null,
   "metadata": {},
   "outputs": [],
   "source": [
    "display(muesli_df.shape)\n",
    "display(Muesli_df2.shape)"
   ]
  },
  {
   "cell_type": "code",
   "execution_count": null,
   "metadata": {},
   "outputs": [],
   "source": [
    "Muesli_df2.info()"
   ]
  },
  {
   "cell_type": "code",
   "execution_count": null,
   "metadata": {},
   "outputs": [],
   "source": []
  }
 ],
 "metadata": {
  "kernelspec": {
   "display_name": "Python 3.9.13 ('nf_base')",
   "language": "python",
   "name": "python3"
  },
  "language_info": {
   "codemirror_mode": {
    "name": "ipython",
    "version": 3
   },
   "file_extension": ".py",
   "mimetype": "text/x-python",
   "name": "python",
   "nbconvert_exporter": "python",
   "pygments_lexer": "ipython3",
   "version": "3.9.13"
  },
  "orig_nbformat": 4,
  "vscode": {
   "interpreter": {
    "hash": "ab3d85a18739f6fff6a9c8c504adc2ff9340867b576dede986e2ee74c099e4e5"
   }
  }
 },
 "nbformat": 4,
 "nbformat_minor": 2
}
