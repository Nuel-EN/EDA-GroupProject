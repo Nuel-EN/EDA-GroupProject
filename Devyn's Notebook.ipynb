{
 "cells": [
  {
   "cell_type": "markdown",
   "metadata": {},
   "source": [
    "Task: \n",
    "1. Help a muesli distribution company understand their delivery process.\n",
    "    - Create KPI's to track the health of the company and better serve customers\n"
   ]
  },
  {
   "cell_type": "markdown",
   "metadata": {},
   "source": [
    "Workflow:\n",
    "1. Order received (Day 1)\n",
    "2. Order processed in warehouse and made ready to ship (~ 2 days)\n",
    "3. Order leaves warehouse in truck following day\n",
    "4. Order delivered to customer (handled by logistics company)"
   ]
  },
  {
   "cell_type": "markdown",
   "metadata": {},
   "source": []
  },
  {
   "cell_type": "code",
   "execution_count": 14,
   "metadata": {},
   "outputs": [],
   "source": [
    "import pandas as pd\n",
    "import matplotlib.pyplot as plt\n",
    "import seaborn as sn"
   ]
  },
  {
   "cell_type": "code",
   "execution_count": 15,
   "metadata": {},
   "outputs": [
    {
     "data": {
      "text/plain": [
       "['Solarize_Light2',\n",
       " '_classic_test_patch',\n",
       " '_mpl-gallery',\n",
       " '_mpl-gallery-nogrid',\n",
       " 'bmh',\n",
       " 'classic',\n",
       " 'dark_background',\n",
       " 'fast',\n",
       " 'fivethirtyeight',\n",
       " 'ggplot',\n",
       " 'grayscale',\n",
       " 'seaborn',\n",
       " 'seaborn-bright',\n",
       " 'seaborn-colorblind',\n",
       " 'seaborn-dark',\n",
       " 'seaborn-dark-palette',\n",
       " 'seaborn-darkgrid',\n",
       " 'seaborn-deep',\n",
       " 'seaborn-muted',\n",
       " 'seaborn-notebook',\n",
       " 'seaborn-paper',\n",
       " 'seaborn-pastel',\n",
       " 'seaborn-poster',\n",
       " 'seaborn-talk',\n",
       " 'seaborn-ticks',\n",
       " 'seaborn-white',\n",
       " 'seaborn-whitegrid',\n",
       " 'tableau-colorblind10']"
      ]
     },
     "execution_count": 15,
     "metadata": {},
     "output_type": "execute_result"
    }
   ],
   "source": [
    "plt.style.available"
   ]
  },
  {
   "cell_type": "code",
   "execution_count": 16,
   "metadata": {},
   "outputs": [
    {
     "data": {
      "text/html": [
       "<div>\n",
       "<style scoped>\n",
       "    .dataframe tbody tr th:only-of-type {\n",
       "        vertical-align: middle;\n",
       "    }\n",
       "\n",
       "    .dataframe tbody tr th {\n",
       "        vertical-align: top;\n",
       "    }\n",
       "\n",
       "    .dataframe thead th {\n",
       "        text-align: right;\n",
       "    }\n",
       "</style>\n",
       "<table border=\"1\" class=\"dataframe\">\n",
       "  <thead>\n",
       "    <tr style=\"text-align: right;\">\n",
       "      <th></th>\n",
       "      <th>Index</th>\n",
       "      <th>Order ID</th>\n",
       "      <th>Order Date</th>\n",
       "      <th>Ship Mode</th>\n",
       "      <th>Customer ID</th>\n",
       "      <th>Customer Name</th>\n",
       "      <th>Origin Channel</th>\n",
       "      <th>Country/Region</th>\n",
       "      <th>City</th>\n",
       "      <th>State</th>\n",
       "      <th>Postal Code</th>\n",
       "      <th>Region</th>\n",
       "      <th>Category</th>\n",
       "      <th>Sub-Category</th>\n",
       "      <th>Product ID</th>\n",
       "      <th>Sales</th>\n",
       "      <th>Quantity</th>\n",
       "      <th>Discount</th>\n",
       "      <th>Profit</th>\n",
       "    </tr>\n",
       "  </thead>\n",
       "  <tbody>\n",
       "    <tr>\n",
       "      <th>0</th>\n",
       "      <td>27</td>\n",
       "      <td>CA-2019-121755</td>\n",
       "      <td>16/1/2019</td>\n",
       "      <td>Second Class</td>\n",
       "      <td>EH-13945</td>\n",
       "      <td>Eric Hoffmann</td>\n",
       "      <td>Email</td>\n",
       "      <td>United States</td>\n",
       "      <td>Los Angeles</td>\n",
       "      <td>California</td>\n",
       "      <td>90,049.00</td>\n",
       "      <td>West</td>\n",
       "      <td>Special Projects Muesil</td>\n",
       "      <td>Gluten Free</td>\n",
       "      <td>TEC-AC-10003027</td>\n",
       "      <td>90.57</td>\n",
       "      <td>3</td>\n",
       "      <td>0.00</td>\n",
       "      <td>11.77</td>\n",
       "    </tr>\n",
       "    <tr>\n",
       "      <th>1</th>\n",
       "      <td>45</td>\n",
       "      <td>CA-2019-118255</td>\n",
       "      <td>11/3/2019</td>\n",
       "      <td>First Class</td>\n",
       "      <td>ON-18715</td>\n",
       "      <td>Odella Nelson</td>\n",
       "      <td>Sales</td>\n",
       "      <td>United States</td>\n",
       "      <td>Eagan</td>\n",
       "      <td>Minnesota</td>\n",
       "      <td>55,122.00</td>\n",
       "      <td>Central</td>\n",
       "      <td>Special Projects Muesil</td>\n",
       "      <td>Gluten Free</td>\n",
       "      <td>TEC-AC-10000171</td>\n",
       "      <td>45.98</td>\n",
       "      <td>2</td>\n",
       "      <td>0.00</td>\n",
       "      <td>19.77</td>\n",
       "    </tr>\n",
       "    <tr>\n",
       "      <th>2</th>\n",
       "      <td>48</td>\n",
       "      <td>CA-2019-169194</td>\n",
       "      <td>20/6/2019</td>\n",
       "      <td>Standard Class</td>\n",
       "      <td>LH-16900</td>\n",
       "      <td>Lena Hernandez</td>\n",
       "      <td>Email</td>\n",
       "      <td>United States</td>\n",
       "      <td>Dover</td>\n",
       "      <td>Delaware</td>\n",
       "      <td>19,901.00</td>\n",
       "      <td>East</td>\n",
       "      <td>Special Projects Muesil</td>\n",
       "      <td>Gluten Free</td>\n",
       "      <td>TEC-AC-10002167</td>\n",
       "      <td>45.00</td>\n",
       "      <td>3</td>\n",
       "      <td>0.00</td>\n",
       "      <td>4.95</td>\n",
       "    </tr>\n",
       "    <tr>\n",
       "      <th>3</th>\n",
       "      <td>60</td>\n",
       "      <td>CA-2019-111682</td>\n",
       "      <td>17/6/2019</td>\n",
       "      <td>First Class</td>\n",
       "      <td>TB-21055</td>\n",
       "      <td>Ted Butterfield</td>\n",
       "      <td>Email</td>\n",
       "      <td>United States</td>\n",
       "      <td>Troy</td>\n",
       "      <td>New York</td>\n",
       "      <td>12,180.00</td>\n",
       "      <td>East</td>\n",
       "      <td>Special Projects Muesil</td>\n",
       "      <td>Gluten Free</td>\n",
       "      <td>TEC-AC-10002167</td>\n",
       "      <td>30.00</td>\n",
       "      <td>2</td>\n",
       "      <td>0.00</td>\n",
       "      <td>3.30</td>\n",
       "    </tr>\n",
       "    <tr>\n",
       "      <th>4</th>\n",
       "      <td>63</td>\n",
       "      <td>CA-2018-135545</td>\n",
       "      <td>24/11/2018</td>\n",
       "      <td>Standard Class</td>\n",
       "      <td>KM-16720</td>\n",
       "      <td>Kunst Miller</td>\n",
       "      <td>Email</td>\n",
       "      <td>United States</td>\n",
       "      <td>Los Angeles</td>\n",
       "      <td>California</td>\n",
       "      <td>90,004.00</td>\n",
       "      <td>West</td>\n",
       "      <td>Special Projects Muesil</td>\n",
       "      <td>Gluten Free</td>\n",
       "      <td>TEC-AC-10004633</td>\n",
       "      <td>13.98</td>\n",
       "      <td>2</td>\n",
       "      <td>0.00</td>\n",
       "      <td>6.15</td>\n",
       "    </tr>\n",
       "  </tbody>\n",
       "</table>\n",
       "</div>"
      ],
      "text/plain": [
       "   Index        Order ID  Order Date       Ship Mode Customer ID  \\\n",
       "0     27  CA-2019-121755   16/1/2019    Second Class    EH-13945   \n",
       "1     45  CA-2019-118255   11/3/2019     First Class    ON-18715   \n",
       "2     48  CA-2019-169194   20/6/2019  Standard Class    LH-16900   \n",
       "3     60  CA-2019-111682   17/6/2019     First Class    TB-21055   \n",
       "4     63  CA-2018-135545  24/11/2018  Standard Class    KM-16720   \n",
       "\n",
       "     Customer Name Origin Channel Country/Region         City       State  \\\n",
       "0    Eric Hoffmann          Email  United States  Los Angeles  California   \n",
       "1    Odella Nelson          Sales  United States        Eagan   Minnesota   \n",
       "2   Lena Hernandez          Email  United States        Dover    Delaware   \n",
       "3  Ted Butterfield          Email  United States         Troy    New York   \n",
       "4     Kunst Miller          Email  United States  Los Angeles  California   \n",
       "\n",
       "   Postal Code   Region                 Category Sub-Category  \\\n",
       "0    90,049.00     West  Special Projects Muesil  Gluten Free   \n",
       "1    55,122.00  Central  Special Projects Muesil  Gluten Free   \n",
       "2    19,901.00     East  Special Projects Muesil  Gluten Free   \n",
       "3    12,180.00     East  Special Projects Muesil  Gluten Free   \n",
       "4    90,004.00     West  Special Projects Muesil  Gluten Free   \n",
       "\n",
       "        Product ID  Sales  Quantity  Discount  Profit  \n",
       "0  TEC-AC-10003027  90.57         3      0.00   11.77  \n",
       "1  TEC-AC-10000171  45.98         2      0.00   19.77  \n",
       "2  TEC-AC-10002167  45.00         3      0.00    4.95  \n",
       "3  TEC-AC-10002167  30.00         2      0.00    3.30  \n",
       "4  TEC-AC-10004633  13.98         2      0.00    6.15  "
      ]
     },
     "execution_count": 16,
     "metadata": {},
     "output_type": "execute_result"
    }
   ],
   "source": [
    "pd.options.display.float_format = \"{:,.2f}\".format\n",
    "plt.style.use('seaborn-dark')\n",
    "muesli_df = pd.read_csv('../EDA-GroupProject/data/Group4_Muesli Project raw data - Orders.csv')\n",
    "muesli_df.head()"
   ]
  },
  {
   "cell_type": "code",
   "execution_count": 20,
   "metadata": {},
   "outputs": [],
   "source": [
    "muesli_df.rename(columns=lambda x : x.lower(), inplace=True)\n",
    "muesli_df.rename(columns=lambda x : x.replace(' ', '_'), inplace=True)"
   ]
  },
  {
   "cell_type": "code",
   "execution_count": 21,
   "metadata": {},
   "outputs": [
    {
     "data": {
      "text/plain": [
       "Index(['index', 'order_id', 'order_date', 'ship_mode', 'customer_id',\n",
       "       'customer_name', 'origin_channel', 'country/region', 'city', 'state',\n",
       "       'postal_code', 'region', 'category', 'sub-category', 'product_id',\n",
       "       'sales', 'quantity', 'discount', 'profit'],\n",
       "      dtype='object')"
      ]
     },
     "execution_count": 21,
     "metadata": {},
     "output_type": "execute_result"
    }
   ],
   "source": [
    "muesli_df.columns"
   ]
  },
  {
   "cell_type": "code",
   "execution_count": 22,
   "metadata": {},
   "outputs": [
    {
     "data": {
      "text/plain": [
       "(9994, 19)"
      ]
     },
     "execution_count": 22,
     "metadata": {},
     "output_type": "execute_result"
    }
   ],
   "source": [
    "muesli_df.shape"
   ]
  },
  {
   "cell_type": "code",
   "execution_count": 23,
   "metadata": {},
   "outputs": [
    {
     "name": "stdout",
     "output_type": "stream",
     "text": [
      "<class 'pandas.core.frame.DataFrame'>\n",
      "RangeIndex: 9994 entries, 0 to 9993\n",
      "Data columns (total 19 columns):\n",
      " #   Column          Non-Null Count  Dtype  \n",
      "---  ------          --------------  -----  \n",
      " 0   index           9994 non-null   int64  \n",
      " 1   order_id        9994 non-null   object \n",
      " 2   order_date      9994 non-null   object \n",
      " 3   ship_mode       9994 non-null   object \n",
      " 4   customer_id     9994 non-null   object \n",
      " 5   customer_name   9994 non-null   object \n",
      " 6   origin_channel  9994 non-null   object \n",
      " 7   country/region  9994 non-null   object \n",
      " 8   city            9994 non-null   object \n",
      " 9   state           9994 non-null   object \n",
      " 10  postal_code     9983 non-null   float64\n",
      " 11  region          9994 non-null   object \n",
      " 12  category        9994 non-null   object \n",
      " 13  sub-category    9994 non-null   object \n",
      " 14  product_id      9994 non-null   object \n",
      " 15  sales           9994 non-null   float64\n",
      " 16  quantity        9994 non-null   int64  \n",
      " 17  discount        9994 non-null   float64\n",
      " 18  profit          9994 non-null   float64\n",
      "dtypes: float64(4), int64(2), object(13)\n",
      "memory usage: 1.4+ MB\n"
     ]
    }
   ],
   "source": [
    "muesli_df.info()"
   ]
  },
  {
   "cell_type": "code",
   "execution_count": 27,
   "metadata": {},
   "outputs": [
    {
     "ename": "ValueError",
     "evalue": "time data '16/1/2019' does not match format '%y.%d.%m' (match)",
     "output_type": "error",
     "traceback": [
      "\u001b[0;31m---------------------------------------------------------------------------\u001b[0m",
      "\u001b[0;31mTypeError\u001b[0m                                 Traceback (most recent call last)",
      "File \u001b[0;32m/opt/homebrew/Caskroom/miniconda/base/envs/nf_base/lib/python3.9/site-packages/pandas/core/tools/datetimes.py:510\u001b[0m, in \u001b[0;36m_to_datetime_with_format\u001b[0;34m(arg, orig_arg, name, tz, fmt, exact, errors, infer_datetime_format)\u001b[0m\n\u001b[1;32m    509\u001b[0m \u001b[39mtry\u001b[39;00m:\n\u001b[0;32m--> 510\u001b[0m     values, tz \u001b[39m=\u001b[39m conversion\u001b[39m.\u001b[39;49mdatetime_to_datetime64(arg)\n\u001b[1;32m    511\u001b[0m     dta \u001b[39m=\u001b[39m DatetimeArray(values, dtype\u001b[39m=\u001b[39mtz_to_dtype(tz))\n",
      "File \u001b[0;32m/opt/homebrew/Caskroom/miniconda/base/envs/nf_base/lib/python3.9/site-packages/pandas/_libs/tslibs/conversion.pyx:360\u001b[0m, in \u001b[0;36mpandas._libs.tslibs.conversion.datetime_to_datetime64\u001b[0;34m()\u001b[0m\n",
      "\u001b[0;31mTypeError\u001b[0m: Unrecognized value type: <class 'str'>",
      "\nDuring handling of the above exception, another exception occurred:\n",
      "\u001b[0;31mValueError\u001b[0m                                Traceback (most recent call last)",
      "\u001b[1;32m/Users/georgeyordel/neuefische/repositories/EDA-GroupProject/Devyn's Notebook.ipynb Cell 11\u001b[0m in \u001b[0;36m<cell line: 2>\u001b[0;34m()\u001b[0m\n\u001b[1;32m      <a href='vscode-notebook-cell:/Users/georgeyordel/neuefische/repositories/EDA-GroupProject/Devyn%27s%20Notebook.ipynb#X12sZmlsZQ%3D%3D?line=0'>1</a>\u001b[0m \u001b[39m# df['trending_date'] = pd.to_datetime(df['trending_date'], format='%y.%d.%m')\u001b[39;00m\n\u001b[0;32m----> <a href='vscode-notebook-cell:/Users/georgeyordel/neuefische/repositories/EDA-GroupProject/Devyn%27s%20Notebook.ipynb#X12sZmlsZQ%3D%3D?line=1'>2</a>\u001b[0m muesli_df[\u001b[39m'\u001b[39m\u001b[39morder_date\u001b[39m\u001b[39m'\u001b[39m] \u001b[39m=\u001b[39m pd\u001b[39m.\u001b[39;49mto_datetime(muesli_df[\u001b[39m'\u001b[39;49m\u001b[39morder_date\u001b[39;49m\u001b[39m'\u001b[39;49m], \u001b[39mformat\u001b[39;49m\u001b[39m=\u001b[39;49m\u001b[39m'\u001b[39;49m\u001b[39m%\u001b[39;49m\u001b[39my.\u001b[39;49m\u001b[39m%d\u001b[39;49;00m\u001b[39m.\u001b[39;49m\u001b[39m%\u001b[39;49m\u001b[39mm\u001b[39;49m\u001b[39m'\u001b[39;49m)\n",
      "File \u001b[0;32m/opt/homebrew/Caskroom/miniconda/base/envs/nf_base/lib/python3.9/site-packages/pandas/core/tools/datetimes.py:1051\u001b[0m, in \u001b[0;36mto_datetime\u001b[0;34m(arg, errors, dayfirst, yearfirst, utc, format, exact, unit, infer_datetime_format, origin, cache)\u001b[0m\n\u001b[1;32m   1049\u001b[0m         result \u001b[39m=\u001b[39m arg\u001b[39m.\u001b[39mmap(cache_array)\n\u001b[1;32m   1050\u001b[0m     \u001b[39melse\u001b[39;00m:\n\u001b[0;32m-> 1051\u001b[0m         values \u001b[39m=\u001b[39m convert_listlike(arg\u001b[39m.\u001b[39;49m_values, \u001b[39mformat\u001b[39;49m)\n\u001b[1;32m   1052\u001b[0m         result \u001b[39m=\u001b[39m arg\u001b[39m.\u001b[39m_constructor(values, index\u001b[39m=\u001b[39marg\u001b[39m.\u001b[39mindex, name\u001b[39m=\u001b[39marg\u001b[39m.\u001b[39mname)\n\u001b[1;32m   1053\u001b[0m \u001b[39melif\u001b[39;00m \u001b[39misinstance\u001b[39m(arg, (ABCDataFrame, abc\u001b[39m.\u001b[39mMutableMapping)):\n",
      "File \u001b[0;32m/opt/homebrew/Caskroom/miniconda/base/envs/nf_base/lib/python3.9/site-packages/pandas/core/tools/datetimes.py:394\u001b[0m, in \u001b[0;36m_convert_listlike_datetimes\u001b[0;34m(arg, format, name, tz, unit, errors, infer_datetime_format, dayfirst, yearfirst, exact)\u001b[0m\n\u001b[1;32m    391\u001b[0m         \u001b[39mformat\u001b[39m \u001b[39m=\u001b[39m \u001b[39mNone\u001b[39;00m\n\u001b[1;32m    393\u001b[0m \u001b[39mif\u001b[39;00m \u001b[39mformat\u001b[39m \u001b[39mis\u001b[39;00m \u001b[39mnot\u001b[39;00m \u001b[39mNone\u001b[39;00m:\n\u001b[0;32m--> 394\u001b[0m     res \u001b[39m=\u001b[39m _to_datetime_with_format(\n\u001b[1;32m    395\u001b[0m         arg, orig_arg, name, tz, \u001b[39mformat\u001b[39;49m, exact, errors, infer_datetime_format\n\u001b[1;32m    396\u001b[0m     )\n\u001b[1;32m    397\u001b[0m     \u001b[39mif\u001b[39;00m res \u001b[39mis\u001b[39;00m \u001b[39mnot\u001b[39;00m \u001b[39mNone\u001b[39;00m:\n\u001b[1;32m    398\u001b[0m         \u001b[39mreturn\u001b[39;00m res\n",
      "File \u001b[0;32m/opt/homebrew/Caskroom/miniconda/base/envs/nf_base/lib/python3.9/site-packages/pandas/core/tools/datetimes.py:514\u001b[0m, in \u001b[0;36m_to_datetime_with_format\u001b[0;34m(arg, orig_arg, name, tz, fmt, exact, errors, infer_datetime_format)\u001b[0m\n\u001b[1;32m    512\u001b[0m     \u001b[39mreturn\u001b[39;00m DatetimeIndex\u001b[39m.\u001b[39m_simple_new(dta, name\u001b[39m=\u001b[39mname)\n\u001b[1;32m    513\u001b[0m \u001b[39mexcept\u001b[39;00m (\u001b[39mValueError\u001b[39;00m, \u001b[39mTypeError\u001b[39;00m):\n\u001b[0;32m--> 514\u001b[0m     \u001b[39mraise\u001b[39;00m err\n",
      "File \u001b[0;32m/opt/homebrew/Caskroom/miniconda/base/envs/nf_base/lib/python3.9/site-packages/pandas/core/tools/datetimes.py:501\u001b[0m, in \u001b[0;36m_to_datetime_with_format\u001b[0;34m(arg, orig_arg, name, tz, fmt, exact, errors, infer_datetime_format)\u001b[0m\n\u001b[1;32m    498\u001b[0m             \u001b[39mreturn\u001b[39;00m _box_as_indexlike(result, utc\u001b[39m=\u001b[39mutc, name\u001b[39m=\u001b[39mname)\n\u001b[1;32m    500\u001b[0m     \u001b[39m# fallback\u001b[39;00m\n\u001b[0;32m--> 501\u001b[0m     res \u001b[39m=\u001b[39m _array_strptime_with_fallback(\n\u001b[1;32m    502\u001b[0m         arg, name, tz, fmt, exact, errors, infer_datetime_format\n\u001b[1;32m    503\u001b[0m     )\n\u001b[1;32m    504\u001b[0m     \u001b[39mreturn\u001b[39;00m res\n\u001b[1;32m    506\u001b[0m \u001b[39mexcept\u001b[39;00m \u001b[39mValueError\u001b[39;00m \u001b[39mas\u001b[39;00m err:\n\u001b[1;32m    507\u001b[0m     \u001b[39m# Fallback to try to convert datetime objects if timezone-aware\u001b[39;00m\n\u001b[1;32m    508\u001b[0m     \u001b[39m#  datetime objects are found without passing `utc=True`\u001b[39;00m\n",
      "File \u001b[0;32m/opt/homebrew/Caskroom/miniconda/base/envs/nf_base/lib/python3.9/site-packages/pandas/core/tools/datetimes.py:437\u001b[0m, in \u001b[0;36m_array_strptime_with_fallback\u001b[0;34m(arg, name, tz, fmt, exact, errors, infer_datetime_format)\u001b[0m\n\u001b[1;32m    434\u001b[0m utc \u001b[39m=\u001b[39m tz \u001b[39m==\u001b[39m \u001b[39m\"\u001b[39m\u001b[39mutc\u001b[39m\u001b[39m\"\u001b[39m\n\u001b[1;32m    436\u001b[0m \u001b[39mtry\u001b[39;00m:\n\u001b[0;32m--> 437\u001b[0m     result, timezones \u001b[39m=\u001b[39m array_strptime(arg, fmt, exact\u001b[39m=\u001b[39;49mexact, errors\u001b[39m=\u001b[39;49merrors)\n\u001b[1;32m    438\u001b[0m     \u001b[39mif\u001b[39;00m \u001b[39m\"\u001b[39m\u001b[39m%\u001b[39m\u001b[39mZ\u001b[39m\u001b[39m\"\u001b[39m \u001b[39min\u001b[39;00m fmt \u001b[39mor\u001b[39;00m \u001b[39m\"\u001b[39m\u001b[39m%\u001b[39m\u001b[39mz\u001b[39m\u001b[39m\"\u001b[39m \u001b[39min\u001b[39;00m fmt:\n\u001b[1;32m    439\u001b[0m         \u001b[39mreturn\u001b[39;00m _return_parsed_timezone_results(result, timezones, tz, name)\n",
      "File \u001b[0;32m/opt/homebrew/Caskroom/miniconda/base/envs/nf_base/lib/python3.9/site-packages/pandas/_libs/tslibs/strptime.pyx:150\u001b[0m, in \u001b[0;36mpandas._libs.tslibs.strptime.array_strptime\u001b[0;34m()\u001b[0m\n",
      "\u001b[0;31mValueError\u001b[0m: time data '16/1/2019' does not match format '%y.%d.%m' (match)"
     ]
    }
   ],
   "source": [
    "# df['trending_date'] = pd.to_datetime(df['trending_date'], format='%y.%d.%m')\n",
    "muesli_df['order_date'] = pd.to_datetime(muesli_df['order_date'], format='%y.%d.%m')\n"
   ]
  },
  {
   "cell_type": "code",
   "execution_count": null,
   "metadata": {},
   "outputs": [],
   "source": []
  }
 ],
 "metadata": {
  "kernelspec": {
   "display_name": "Python 3.9.13 ('nf_base')",
   "language": "python",
   "name": "python3"
  },
  "language_info": {
   "codemirror_mode": {
    "name": "ipython",
    "version": 3
   },
   "file_extension": ".py",
   "mimetype": "text/x-python",
   "name": "python",
   "nbconvert_exporter": "python",
   "pygments_lexer": "ipython3",
   "version": "3.9.13"
  },
  "orig_nbformat": 4,
  "vscode": {
   "interpreter": {
    "hash": "ab3d85a18739f6fff6a9c8c504adc2ff9340867b576dede986e2ee74c099e4e5"
   }
  }
 },
 "nbformat": 4,
 "nbformat_minor": 2
}
