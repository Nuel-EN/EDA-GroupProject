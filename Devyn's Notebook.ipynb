{
 "cells": [
  {
   "cell_type": "markdown",
   "metadata": {},
   "source": [
    "Task: \n",
    "1. Help a muesli distribution company understand their delivery process.\n",
    "    - Create KPI's to track the health of the company and better serve customers\n"
   ]
  },
  {
   "cell_type": "markdown",
   "metadata": {},
   "source": [
    "Workflow:\n",
    "1. Order received (Day 1)\n",
    "2. Order processed in warehouse and made ready to ship (~ 2 days)\n",
    "3. Order leaves warehouse in truck following day\n",
    "4. Order delivered to customer (handled by logistics company)"
   ]
  },
  {
   "cell_type": "markdown",
   "metadata": {},
   "source": []
  },
  {
   "cell_type": "code",
   "execution_count": 7,
   "metadata": {},
   "outputs": [],
   "source": [
    "import pandas as pd\n",
    "import matplotlib.pyplot as plt\n",
    "import seaborn as sn"
   ]
  },
  {
   "cell_type": "code",
   "execution_count": 8,
   "metadata": {},
   "outputs": [
    {
     "data": {
      "text/plain": [
       "['Solarize_Light2',\n",
       " '_classic_test_patch',\n",
       " '_mpl-gallery',\n",
       " '_mpl-gallery-nogrid',\n",
       " 'bmh',\n",
       " 'classic',\n",
       " 'dark_background',\n",
       " 'fast',\n",
       " 'fivethirtyeight',\n",
       " 'ggplot',\n",
       " 'grayscale',\n",
       " 'seaborn',\n",
       " 'seaborn-bright',\n",
       " 'seaborn-colorblind',\n",
       " 'seaborn-dark',\n",
       " 'seaborn-dark-palette',\n",
       " 'seaborn-darkgrid',\n",
       " 'seaborn-deep',\n",
       " 'seaborn-muted',\n",
       " 'seaborn-notebook',\n",
       " 'seaborn-paper',\n",
       " 'seaborn-pastel',\n",
       " 'seaborn-poster',\n",
       " 'seaborn-talk',\n",
       " 'seaborn-ticks',\n",
       " 'seaborn-white',\n",
       " 'seaborn-whitegrid',\n",
       " 'tableau-colorblind10']"
      ]
     },
     "execution_count": 8,
     "metadata": {},
     "output_type": "execute_result"
    }
   ],
   "source": [
    "plt.style.available"
   ]
  },
  {
   "cell_type": "code",
   "execution_count": 12,
   "metadata": {},
   "outputs": [
    {
     "data": {
      "text/html": [
       "<div>\n",
       "<style scoped>\n",
       "    .dataframe tbody tr th:only-of-type {\n",
       "        vertical-align: middle;\n",
       "    }\n",
       "\n",
       "    .dataframe tbody tr th {\n",
       "        vertical-align: top;\n",
       "    }\n",
       "\n",
       "    .dataframe thead th {\n",
       "        text-align: right;\n",
       "    }\n",
       "</style>\n",
       "<table border=\"1\" class=\"dataframe\">\n",
       "  <thead>\n",
       "    <tr style=\"text-align: right;\">\n",
       "      <th></th>\n",
       "      <th>Index</th>\n",
       "      <th>Order ID</th>\n",
       "      <th>Order Date</th>\n",
       "      <th>Ship Mode</th>\n",
       "      <th>Customer ID</th>\n",
       "      <th>Customer Name</th>\n",
       "      <th>Origin Channel</th>\n",
       "      <th>Country/Region</th>\n",
       "      <th>City</th>\n",
       "      <th>State</th>\n",
       "      <th>Postal Code</th>\n",
       "      <th>Region</th>\n",
       "      <th>Category</th>\n",
       "      <th>Sub-Category</th>\n",
       "      <th>Product ID</th>\n",
       "      <th>Sales</th>\n",
       "      <th>Quantity</th>\n",
       "      <th>Discount</th>\n",
       "      <th>Profit</th>\n",
       "    </tr>\n",
       "  </thead>\n",
       "  <tbody>\n",
       "    <tr>\n",
       "      <th>0</th>\n",
       "      <td>27</td>\n",
       "      <td>CA-2019-121755</td>\n",
       "      <td>16/1/2019</td>\n",
       "      <td>Second Class</td>\n",
       "      <td>EH-13945</td>\n",
       "      <td>Eric Hoffmann</td>\n",
       "      <td>Email</td>\n",
       "      <td>United States</td>\n",
       "      <td>Los Angeles</td>\n",
       "      <td>California</td>\n",
       "      <td>90,049.00</td>\n",
       "      <td>West</td>\n",
       "      <td>Special Projects Muesil</td>\n",
       "      <td>Gluten Free</td>\n",
       "      <td>TEC-AC-10003027</td>\n",
       "      <td>90.57</td>\n",
       "      <td>3</td>\n",
       "      <td>0.00</td>\n",
       "      <td>11.77</td>\n",
       "    </tr>\n",
       "    <tr>\n",
       "      <th>1</th>\n",
       "      <td>45</td>\n",
       "      <td>CA-2019-118255</td>\n",
       "      <td>11/3/2019</td>\n",
       "      <td>First Class</td>\n",
       "      <td>ON-18715</td>\n",
       "      <td>Odella Nelson</td>\n",
       "      <td>Sales</td>\n",
       "      <td>United States</td>\n",
       "      <td>Eagan</td>\n",
       "      <td>Minnesota</td>\n",
       "      <td>55,122.00</td>\n",
       "      <td>Central</td>\n",
       "      <td>Special Projects Muesil</td>\n",
       "      <td>Gluten Free</td>\n",
       "      <td>TEC-AC-10000171</td>\n",
       "      <td>45.98</td>\n",
       "      <td>2</td>\n",
       "      <td>0.00</td>\n",
       "      <td>19.77</td>\n",
       "    </tr>\n",
       "    <tr>\n",
       "      <th>2</th>\n",
       "      <td>48</td>\n",
       "      <td>CA-2019-169194</td>\n",
       "      <td>20/6/2019</td>\n",
       "      <td>Standard Class</td>\n",
       "      <td>LH-16900</td>\n",
       "      <td>Lena Hernandez</td>\n",
       "      <td>Email</td>\n",
       "      <td>United States</td>\n",
       "      <td>Dover</td>\n",
       "      <td>Delaware</td>\n",
       "      <td>19,901.00</td>\n",
       "      <td>East</td>\n",
       "      <td>Special Projects Muesil</td>\n",
       "      <td>Gluten Free</td>\n",
       "      <td>TEC-AC-10002167</td>\n",
       "      <td>45.00</td>\n",
       "      <td>3</td>\n",
       "      <td>0.00</td>\n",
       "      <td>4.95</td>\n",
       "    </tr>\n",
       "    <tr>\n",
       "      <th>3</th>\n",
       "      <td>60</td>\n",
       "      <td>CA-2019-111682</td>\n",
       "      <td>17/6/2019</td>\n",
       "      <td>First Class</td>\n",
       "      <td>TB-21055</td>\n",
       "      <td>Ted Butterfield</td>\n",
       "      <td>Email</td>\n",
       "      <td>United States</td>\n",
       "      <td>Troy</td>\n",
       "      <td>New York</td>\n",
       "      <td>12,180.00</td>\n",
       "      <td>East</td>\n",
       "      <td>Special Projects Muesil</td>\n",
       "      <td>Gluten Free</td>\n",
       "      <td>TEC-AC-10002167</td>\n",
       "      <td>30.00</td>\n",
       "      <td>2</td>\n",
       "      <td>0.00</td>\n",
       "      <td>3.30</td>\n",
       "    </tr>\n",
       "    <tr>\n",
       "      <th>4</th>\n",
       "      <td>63</td>\n",
       "      <td>CA-2018-135545</td>\n",
       "      <td>24/11/2018</td>\n",
       "      <td>Standard Class</td>\n",
       "      <td>KM-16720</td>\n",
       "      <td>Kunst Miller</td>\n",
       "      <td>Email</td>\n",
       "      <td>United States</td>\n",
       "      <td>Los Angeles</td>\n",
       "      <td>California</td>\n",
       "      <td>90,004.00</td>\n",
       "      <td>West</td>\n",
       "      <td>Special Projects Muesil</td>\n",
       "      <td>Gluten Free</td>\n",
       "      <td>TEC-AC-10004633</td>\n",
       "      <td>13.98</td>\n",
       "      <td>2</td>\n",
       "      <td>0.00</td>\n",
       "      <td>6.15</td>\n",
       "    </tr>\n",
       "  </tbody>\n",
       "</table>\n",
       "</div>"
      ],
      "text/plain": [
       "   Index        Order ID  Order Date       Ship Mode Customer ID  \\\n",
       "0     27  CA-2019-121755   16/1/2019    Second Class    EH-13945   \n",
       "1     45  CA-2019-118255   11/3/2019     First Class    ON-18715   \n",
       "2     48  CA-2019-169194   20/6/2019  Standard Class    LH-16900   \n",
       "3     60  CA-2019-111682   17/6/2019     First Class    TB-21055   \n",
       "4     63  CA-2018-135545  24/11/2018  Standard Class    KM-16720   \n",
       "\n",
       "     Customer Name Origin Channel Country/Region         City       State  \\\n",
       "0    Eric Hoffmann          Email  United States  Los Angeles  California   \n",
       "1    Odella Nelson          Sales  United States        Eagan   Minnesota   \n",
       "2   Lena Hernandez          Email  United States        Dover    Delaware   \n",
       "3  Ted Butterfield          Email  United States         Troy    New York   \n",
       "4     Kunst Miller          Email  United States  Los Angeles  California   \n",
       "\n",
       "   Postal Code   Region                 Category Sub-Category  \\\n",
       "0    90,049.00     West  Special Projects Muesil  Gluten Free   \n",
       "1    55,122.00  Central  Special Projects Muesil  Gluten Free   \n",
       "2    19,901.00     East  Special Projects Muesil  Gluten Free   \n",
       "3    12,180.00     East  Special Projects Muesil  Gluten Free   \n",
       "4    90,004.00     West  Special Projects Muesil  Gluten Free   \n",
       "\n",
       "        Product ID  Sales  Quantity  Discount  Profit  \n",
       "0  TEC-AC-10003027  90.57         3      0.00   11.77  \n",
       "1  TEC-AC-10000171  45.98         2      0.00   19.77  \n",
       "2  TEC-AC-10002167  45.00         3      0.00    4.95  \n",
       "3  TEC-AC-10002167  30.00         2      0.00    3.30  \n",
       "4  TEC-AC-10004633  13.98         2      0.00    6.15  "
      ]
     },
     "execution_count": 12,
     "metadata": {},
     "output_type": "execute_result"
    }
   ],
   "source": [
    "pd.options.display.float_format = \"{:,.2f}\".format\n",
    "plt.style.use('seaborn-dark')\n",
    "muesli_df = pd.read_csv('../EDA-GroupProject/data/Group4_Muesli Project raw data - Orders.csv')\n",
    "muesli_df.head()"
   ]
  },
  {
   "cell_type": "code",
   "execution_count": 13,
   "metadata": {},
   "outputs": [
    {
     "data": {
      "text/plain": [
       "Index(['Index', 'Order ID', 'Order Date', 'Ship Mode', 'Customer ID',\n",
       "       'Customer Name', 'Origin Channel', 'Country/Region', 'City', 'State',\n",
       "       'Postal Code', 'Region', 'Category', 'Sub-Category', 'Product ID',\n",
       "       'Sales', 'Quantity', 'Discount', 'Profit'],\n",
       "      dtype='object')"
      ]
     },
     "execution_count": 13,
     "metadata": {},
     "output_type": "execute_result"
    }
   ],
   "source": [
    "muesli_df.columns"
   ]
  },
  {
   "cell_type": "code",
   "execution_count": null,
   "metadata": {},
   "outputs": [],
   "source": []
  }
 ],
 "metadata": {
  "kernelspec": {
   "display_name": "Python 3.9.13 ('nf_base')",
   "language": "python",
   "name": "python3"
  },
  "language_info": {
   "codemirror_mode": {
    "name": "ipython",
    "version": 3
   },
   "file_extension": ".py",
   "mimetype": "text/x-python",
   "name": "python",
   "nbconvert_exporter": "python",
   "pygments_lexer": "ipython3",
   "version": "3.9.13"
  },
  "orig_nbformat": 4,
  "vscode": {
   "interpreter": {
    "hash": "ab3d85a18739f6fff6a9c8c504adc2ff9340867b576dede986e2ee74c099e4e5"
   }
  }
 },
 "nbformat": 4,
 "nbformat_minor": 2
}
