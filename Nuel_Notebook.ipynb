{
 "cells": [
  {
   "cell_type": "markdown",
   "metadata": {},
   "source": [
    "# Exploratory Data Analysis exercise\n",
    "Objective: Business Understanding and extracting information from customer briefing  \n",
    "Technical: Combine multiple data sources, perform Exploratory Data Analysis   \n",
    "Mathematical: Calculate descriptive statistics \n",
    "Data: In your [Google Drive EDA Project Folder](https://docs.google.com/spreadsheets/d/1RCZR7fOF4n7pFIrOgKqWtb4hAPmsV0N0JhgtT4k2wug/edit?usp=sharing)\n"
   ]
  }
 ],
 "metadata": {
  "kernelspec": {
   "display_name": "Python 3.9.13 ('nf_base')",
   "language": "python",
   "name": "python3"
  },
  "language_info": {
   "name": "python",
   "version": "3.9.13"
  },
  "orig_nbformat": 4,
  "vscode": {
   "interpreter": {
    "hash": "ab3d85a18739f6fff6a9c8c504adc2ff9340867b576dede986e2ee74c099e4e5"
   }
  }
 },
 "nbformat": 4,
 "nbformat_minor": 2
}
